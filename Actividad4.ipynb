{
 "cells": [
  {
   "cell_type": "code",
   "execution_count": 1,
   "metadata": {},
   "outputs": [],
   "source": [
    "# Cargar a la memoria de trabajo las bibliotecas: Pandas (manejo de datos, \n",
    "# Numpy (numerical python) y la biblioteca de gráficas Matplotlib\n",
    "# Se asignan nombres cortos.\n",
    "import pandas as pd\n",
    "import numpy as np\n",
    "import matplotlib.pyplot as plt\n",
    "#\n",
    "# Usar \"Shift+Enter\" para procesar la información de la celda\n",
    "#"
   ]
  },
  {
   "cell_type": "code",
   "execution_count": 2,
   "metadata": {},
   "outputs": [],
   "source": [
    "# Descarga los datos de una estación del Servicio Meteorológico Nacional\n",
    "# http://smn1.conagua.gob.mx/emas/\n",
    "# Lee un archivo de texto con la función Pandas \"read_csv\", con elementos separados por mas de \n",
    "# un espacio, brincándose 4 renglones del inicio (encabezados)\n",
    "df0 = pd.read_csv('alamos.txt', skiprows=20, sep='\\s+',header=None,names=[\"DD/MM/AAAA\",\"PRECIP\",\"EVAP\",\"TMAX\",\"TMIN\"])\n",
    "# \"Shift + Enter\""
   ]
  },
  {
   "cell_type": "code",
   "execution_count": 3,
   "metadata": {},
   "outputs": [],
   "source": [
    "# Combinar las columnas \"DD/MM/AAAA\" con \"HH:MM\" y convertirla a variable de tiempo\n",
    "# Se crea una nueva columna \"Fecha\" al final con formato de tiempo.\n",
    "# Eliminamos las dos primeras columnas que ya no necesitaremos\n",
    "df0['FECHA'] = pd.to_datetime(df0.apply(lambda x: x['DD/MM/AAAA'], 1), dayfirst=True)\n",
    "df0 = df0.drop(['DD/MM/AAAA'], 1)"
   ]
  },
  {
   "cell_type": "code",
   "execution_count": 4,
   "metadata": {},
   "outputs": [
    {
     "data": {
      "text/html": [
       "<div>\n",
       "<style scoped>\n",
       "    .dataframe tbody tr th:only-of-type {\n",
       "        vertical-align: middle;\n",
       "    }\n",
       "\n",
       "    .dataframe tbody tr th {\n",
       "        vertical-align: top;\n",
       "    }\n",
       "\n",
       "    .dataframe thead th {\n",
       "        text-align: right;\n",
       "    }\n",
       "</style>\n",
       "<table border=\"1\" class=\"dataframe\">\n",
       "  <thead>\n",
       "    <tr style=\"text-align: right;\">\n",
       "      <th></th>\n",
       "      <th>PRECIP</th>\n",
       "      <th>EVAP</th>\n",
       "      <th>TMAX</th>\n",
       "      <th>TMIN</th>\n",
       "      <th>FECHA</th>\n",
       "    </tr>\n",
       "  </thead>\n",
       "  <tbody>\n",
       "    <tr>\n",
       "      <th>0</th>\n",
       "      <td>0.0</td>\n",
       "      <td>2.0</td>\n",
       "      <td>22.5</td>\n",
       "      <td>6.0</td>\n",
       "      <td>1961-01-01</td>\n",
       "    </tr>\n",
       "    <tr>\n",
       "      <th>1</th>\n",
       "      <td>0.0</td>\n",
       "      <td>1.1</td>\n",
       "      <td>25.0</td>\n",
       "      <td>9.0</td>\n",
       "      <td>1961-01-02</td>\n",
       "    </tr>\n",
       "    <tr>\n",
       "      <th>2</th>\n",
       "      <td>0.0</td>\n",
       "      <td>3.4</td>\n",
       "      <td>27.5</td>\n",
       "      <td>9.0</td>\n",
       "      <td>1961-01-03</td>\n",
       "    </tr>\n",
       "    <tr>\n",
       "      <th>3</th>\n",
       "      <td>0.0</td>\n",
       "      <td>2.4</td>\n",
       "      <td>27.5</td>\n",
       "      <td>11.0</td>\n",
       "      <td>1961-01-04</td>\n",
       "    </tr>\n",
       "    <tr>\n",
       "      <th>4</th>\n",
       "      <td>7.4</td>\n",
       "      <td>6.0</td>\n",
       "      <td>22.0</td>\n",
       "      <td>13.5</td>\n",
       "      <td>1961-01-05</td>\n",
       "    </tr>\n",
       "  </tbody>\n",
       "</table>\n",
       "</div>"
      ],
      "text/plain": [
       "   PRECIP  EVAP  TMAX  TMIN      FECHA\n",
       "0     0.0   2.0  22.5   6.0 1961-01-01\n",
       "1     0.0   1.1  25.0   9.0 1961-01-02\n",
       "2     0.0   3.4  27.5   9.0 1961-01-03\n",
       "3     0.0   2.4  27.5  11.0 1961-01-04\n",
       "4     7.4   6.0  22.0  13.5 1961-01-05"
      ]
     },
     "execution_count": 4,
     "metadata": {},
     "output_type": "execute_result"
    }
   ],
   "source": [
    "# Lee los primeros 5 renglones del archivo\n",
    "df0.head()\n",
    "# \"Shift+Enter\""
   ]
  },
  {
   "cell_type": "code",
   "execution_count": 5,
   "metadata": {},
   "outputs": [],
   "source": [
    "# Dar estructura de datos (DataFrame)\n",
    "df = pd.DataFrame(df0)"
   ]
  },
  {
   "cell_type": "code",
   "execution_count": 6,
   "metadata": {},
   "outputs": [
    {
     "data": {
      "text/plain": [
       "PRECIP           float64\n",
       "EVAP             float64\n",
       "TMAX             float64\n",
       "TMIN             float64\n",
       "FECHA     datetime64[ns]\n",
       "dtype: object"
      ]
     },
     "execution_count": 6,
     "metadata": {},
     "output_type": "execute_result"
    }
   ],
   "source": [
    "df.dtypes"
   ]
  },
  {
   "cell_type": "code",
   "execution_count": 14,
   "metadata": {},
   "outputs": [
    {
     "name": "stdout",
     "output_type": "stream",
     "text": [
      "(8197, 5)\n"
     ]
    }
   ],
   "source": [
    "print(df.shape)"
   ]
  },
  {
   "cell_type": "code",
   "execution_count": 15,
   "metadata": {},
   "outputs": [
    {
     "ename": "SyntaxError",
     "evalue": "invalid syntax (<ipython-input-15-cd9299af08c6>, line 1)",
     "output_type": "error",
     "traceback": [
      "\u001b[1;36m  File \u001b[1;32m\"<ipython-input-15-cd9299af08c6>\"\u001b[1;36m, line \u001b[1;32m1\u001b[0m\n\u001b[1;33m    https://code.likeagirl.io/an%C3%A1lisis-y-visualizaci%C3%B3n-de-datos-con-pandas-matplotlib-85ee4d7b4cad\u001b[0m\n\u001b[1;37m           ^\u001b[0m\n\u001b[1;31mSyntaxError\u001b[0m\u001b[1;31m:\u001b[0m invalid syntax\n"
     ]
    }
   ],
   "source": [
    "https://code.likeagirl.io/an%C3%A1lisis-y-visualizaci%C3%B3n-de-datos-con-pandas-matplotlib-85ee4d7b4cad"
   ]
  },
  {
   "cell_type": "code",
   "execution_count": null,
   "metadata": {},
   "outputs": [],
   "source": []
  }
 ],
 "metadata": {
  "kernelspec": {
   "display_name": "Python 3",
   "language": "python",
   "name": "python3"
  },
  "language_info": {
   "codemirror_mode": {
    "name": "ipython",
    "version": 3
   },
   "file_extension": ".py",
   "mimetype": "text/x-python",
   "name": "python",
   "nbconvert_exporter": "python",
   "pygments_lexer": "ipython3",
   "version": "3.7.1"
  }
 },
 "nbformat": 4,
 "nbformat_minor": 2
}
